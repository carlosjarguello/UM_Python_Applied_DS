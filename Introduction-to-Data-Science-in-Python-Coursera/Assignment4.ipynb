{
 "cells": [
  {
   "cell_type": "markdown",
   "metadata": {},
   "source": [
    "---\n",
    "\n",
    "_You are currently looking at **version 1.1** of this notebook. To download notebooks and datafiles, as well as get help on Jupyter notebooks in the Coursera platform, visit the [Jupyter Notebook FAQ](https://www.coursera.org/learn/python-data-analysis/resources/0dhYG) course resource._\n",
    "\n",
    "---"
   ]
  },
  {
   "cell_type": "code",
   "execution_count": 1,
   "metadata": {
    "collapsed": true
   },
   "outputs": [],
   "source": [
    "import pandas as pd\n",
    "import numpy as np\n",
    "from scipy.stats import ttest_ind"
   ]
  },
  {
   "cell_type": "markdown",
   "metadata": {},
   "source": [
    "# Assignment 4 - Hypothesis Testing\n",
    "This assignment requires more individual learning than previous assignments - you are encouraged to check out the [pandas documentation](http://pandas.pydata.org/pandas-docs/stable/) to find functions or methods you might not have used yet, or ask questions on [Stack Overflow](http://stackoverflow.com/) and tag them as pandas and python related. And of course, the discussion forums are open for interaction with your peers and the course staff.\n",
    "\n",
    "Definitions:\n",
    "* A _quarter_ is a specific three month period, Q1 is January through March, Q2 is April through June, Q3 is July through September, Q4 is October through December.\n",
    "* A _recession_ is defined as starting with two consecutive quarters of GDP decline, and ending with two consecutive quarters of GDP growth.\n",
    "* A _recession bottom_ is the quarter within a recession which had the lowest GDP.\n",
    "* A _university town_ is a city which has a high percentage of university students compared to the total population of the city.\n",
    "\n",
    "**Hypothesis**: University towns have their mean housing prices less effected by recessions. Run a t-test to compare the ratio of the mean price of houses in university towns the quarter before the recession starts compared to the recession bottom. (`price_ratio=quarter_before_recession/recession_bottom`)\n",
    "\n",
    "The following data files are available for this assignment:\n",
    "* From the [Zillow research data site](http://www.zillow.com/research/data/) there is housing data for the United States. In particular the datafile for [all homes at a city level](http://files.zillowstatic.com/research/public/City/City_Zhvi_AllHomes.csv), ```City_Zhvi_AllHomes.csv```, has median home sale prices at a fine grained level.\n",
    "* From the Wikipedia page on college towns is a list of [university towns in the United States](https://en.wikipedia.org/wiki/List_of_college_towns#College_towns_in_the_United_States) which has been copy and pasted into the file ```university_towns.txt```.\n",
    "* From Bureau of Economic Analysis, US Department of Commerce, the [GDP over time](http://www.bea.gov/national/index.htm#gdp) of the United States in current dollars (use the chained value in 2009 dollars), in quarterly intervals, in the file ```gdplev.xls```. For this assignment, only look at GDP data from the first quarter of 2000 onward.\n",
    "\n",
    "Each function in this assignment below is worth 10%, with the exception of ```run_ttest()```, which is worth 50%."
   ]
  },
  {
   "cell_type": "code",
   "execution_count": 2,
   "metadata": {
    "collapsed": false
   },
   "outputs": [],
   "source": [
    "# Use this dictionary to map state names to two letter acronyms\n",
    "states = {'OH': 'Ohio', 'KY': 'Kentucky', 'AS': 'American Samoa', 'NV': 'Nevada', 'WY': 'Wyoming', 'NA': 'National', 'AL': 'Alabama', 'MD': 'Maryland', 'AK': 'Alaska', 'UT': 'Utah', 'OR': 'Oregon', 'MT': 'Montana', 'IL': 'Illinois', 'TN': 'Tennessee', 'DC': 'District of Columbia', 'VT': 'Vermont', 'ID': 'Idaho', 'AR': 'Arkansas', 'ME': 'Maine', 'WA': 'Washington', 'HI': 'Hawaii', 'WI': 'Wisconsin', 'MI': 'Michigan', 'IN': 'Indiana', 'NJ': 'New Jersey', 'AZ': 'Arizona', 'GU': 'Guam', 'MS': 'Mississippi', 'PR': 'Puerto Rico', 'NC': 'North Carolina', 'TX': 'Texas', 'SD': 'South Dakota', 'MP': 'Northern Mariana Islands', 'IA': 'Iowa', 'MO': 'Missouri', 'CT': 'Connecticut', 'WV': 'West Virginia', 'SC': 'South Carolina', 'LA': 'Louisiana', 'KS': 'Kansas', 'NY': 'New York', 'NE': 'Nebraska', 'OK': 'Oklahoma', 'FL': 'Florida', 'CA': 'California', 'CO': 'Colorado', 'PA': 'Pennsylvania', 'DE': 'Delaware', 'NM': 'New Mexico', 'RI': 'Rhode Island', 'MN': 'Minnesota', 'VI': 'Virgin Islands', 'NH': 'New Hampshire', 'MA': 'Massachusetts', 'GA': 'Georgia', 'ND': 'North Dakota', 'VA': 'Virginia'}"
   ]
  },
  {
   "cell_type": "code",
   "execution_count": 172,
   "metadata": {
    "collapsed": false
   },
   "outputs": [],
   "source": [
    "def get_list_of_university_towns():\n",
    "    '''Returns a DataFrame of towns and the states they are in from the \n",
    "    university_towns.txt list. The format of the DataFrame should be:\n",
    "    DataFrame( [ [\"Michigan\", \"Ann Arbor\"], [\"Michigan\", \"Yipsilanti\"] ], \n",
    "    columns=[\"State\", \"RegionName\"]  )\n",
    "    \n",
    "    The following cleaning needs to be done:\n",
    "\n",
    "    1. For \"State\", removing characters from \"[\" to the end.\n",
    "    2. For \"RegionName\", when applicable, removing every character from \" (\" to the end.\n",
    "    3. Depending on how you read the data, you may need to remove newline character '\\n'. '''\n",
    "    #df_out = pd.DataFrame({'x': [], 'State' : [], 'RegionName': []})\n",
    "    df_out = pd.DataFrame()\n",
    "    with open('university_towns.txt') as f:\n",
    "        for row in f:\n",
    "            if 'edit' in row.rstrip():\n",
    "                state = row.split('[')[0]\n",
    "            else:\n",
    "                df_out = df_out.append({'State': state, 'RegionName' : row.split(' (')[0].rstrip()}, ignore_index=True)\n",
    "    cols = df_out.columns.tolist()[::-1]\n",
    "    df_out = df_out[cols]\n",
    "    return df_out"
   ]
  },
  {
   "cell_type": "code",
   "execution_count": 4,
   "metadata": {
    "collapsed": false
   },
   "outputs": [],
   "source": [
    "def get_recession_start():\n",
    "    '''Returns the year and quarter of the recession start time as a \n",
    "    string value in a format such as 2005q3'''\n",
    "    df_gdp = pd.read_excel('gdplev.xls', skiprows=5)\n",
    "    df_gdp = df_gdp.dropna(how='all').dropna(axis=1, how='all').\\\n",
    "    reset_index(drop=True).drop(df_gdp.columns[:3], axis=1).\\\n",
    "    rename(columns = {'Unnamed: 4' : 'Quarter'}).set_index('Quarter')\n",
    "    df_gdp.drop(df_gdp.index[0:212], inplace=True)\n",
    "    gdp_last = 0\n",
    "    gdp_ind_last = df_gdp.index[0]\n",
    "    flag = 0 \n",
    "    for gdp_ind in df_gdp.index:\n",
    "        if df_gdp.loc[gdp_ind,'GDP in billions of chained 2009 dollars.1'] < gdp_last:\n",
    "            if flag ==0:\n",
    "                gdp_ind_last = gdp_ind\n",
    "            flag +=1\n",
    "            if flag == 2:\n",
    "                return gdp_ind_last\n",
    "        else:\n",
    "            flag=0\n",
    "        gdp_last = df_gdp.loc[gdp_ind,'GDP in billions of chained 2009 dollars.1']\n",
    "    return"
   ]
  },
  {
   "cell_type": "code",
   "execution_count": 5,
   "metadata": {
    "collapsed": false
   },
   "outputs": [],
   "source": [
    "def get_recession_end():\n",
    "    '''Returns the year and quarter of the recession end time as a \n",
    "    string value in a format such as 2005q3'''\n",
    "    df_gdp = pd.read_excel('gdplev.xls', skiprows=5)\n",
    "    df_gdp = df_gdp.dropna(how='all').dropna(axis=1, how='all').\\\n",
    "    reset_index(drop=True).drop(df_gdp.columns[:3], axis=1).\\\n",
    "    rename(columns = {'Unnamed: 4' : 'Quarter'}).set_index('Quarter')\n",
    "    df_gdp.drop(df_gdp.index[0:212], inplace=True)\n",
    "    gdp_last = 0\n",
    "    flag = 0 \n",
    "    for gdp_ind in df_gdp[df_gdp.index >= get_recession_start()].index:\n",
    "        if df_gdp.loc[gdp_ind,'GDP in billions of chained 2009 dollars.1'] > gdp_last:\n",
    "            flag +=1\n",
    "            if flag == 2:\n",
    "                return gdp_ind\n",
    "        else:\n",
    "            flag=0\n",
    "        gdp_last = df_gdp.loc[gdp_ind,'GDP in billions of chained 2009 dollars.1']\n",
    "    return   "
   ]
  },
  {
   "cell_type": "code",
   "execution_count": 6,
   "metadata": {
    "collapsed": false
   },
   "outputs": [],
   "source": [
    "def get_recession_bottom():\n",
    "    '''Returns the year and quarter of the recession bottom time as a \n",
    "    string value in a format such as 2005q3'''\n",
    "    df_gdp = pd.read_excel('gdplev.xls', skiprows=5)\n",
    "    df_gdp = df_gdp.dropna(how='all').dropna(axis=1, how='all').\\\n",
    "    reset_index(drop=True).drop(df_gdp.columns[:3], axis=1).\\\n",
    "    rename(columns = {'Unnamed: 4' : 'Quarter'}).set_index('Quarter')\n",
    "    rec_start = get_recession_start()\n",
    "    rec_end = get_recession_end()\n",
    "    return df_gdp[(df_gdp.index >= rec_start) & (df_gdp.index <= rec_end)]['GDP in billions of chained 2009 dollars.1'].idxmin()"
   ]
  },
  {
   "cell_type": "code",
   "execution_count": 7,
   "metadata": {
    "collapsed": false
   },
   "outputs": [
    {
     "data": {
      "text/plain": [
       "'2009q2'"
      ]
     },
     "execution_count": 7,
     "metadata": {},
     "output_type": "execute_result"
    }
   ],
   "source": [
    "get_recession_bottom()"
   ]
  },
  {
   "cell_type": "code",
   "execution_count": 8,
   "metadata": {
    "collapsed": false
   },
   "outputs": [],
   "source": [
    "def convert_housing_data_to_quarters():\n",
    "    '''Converts the housing data to quarters and returns it as mean \n",
    "    values in a dataframe. This dataframe should be a dataframe with\n",
    "    columns for 2000q1 through 2016q3, and should have a multi-index\n",
    "    in the shape of [\"State\",\"RegionName\"].\n",
    "    \n",
    "    Note: Quarters are defined in the assignment description, they are\n",
    "    not arbitrary three month periods.\n",
    "    \n",
    "    The resulting dataframe should have 67 columns, and 10,730 rows.\n",
    "    '''\n",
    "    df = pd.read_csv('City_Zhvi_AllHomes.csv')\n",
    "    first_col = df.columns.get_loc('2000-01')\n",
    "    #last_col = len(df.columns)-1\n",
    "    #def get_quartmean(row):\n",
    "    #    c1 = 0\n",
    "    #    year = 2000\n",
    "    #    while c1+first_col <= last_col:\n",
    "    #        year = 2000 + c1//12\n",
    "    #        quarter = ((c1)//3)%4+1\n",
    "    #        row[str(year)+'q'+str(quarter)] = row[first_col+c1: first_col+c1+3].mean()\n",
    "    #        c1+=3\n",
    "    #    row['State'] = states[row['State']]\n",
    "    #    return row\n",
    "    #df = df[:20].apply(get_quartmean, axis=1).set_index(['State','RegionName'])\n",
    "    c1 = 0\n",
    "    year = 0 \n",
    "    while c1+first_col <= 251:\n",
    "        year = 2000 + c1//12\n",
    "        quarter = ((c1)//3)%4+1\n",
    "        df[str(year)+'q'+str(quarter)] = df.ix[:,c1+first_col:c1+first_col+3].mean(axis=1)\n",
    "        c1+=3\n",
    "    df['State'] = df['State'].apply(lambda x: states[x])\n",
    "    df.set_index(['State','RegionName'], inplace=True)\n",
    "    df.drop(df.columns[:df.columns.get_loc('2000q1')], axis=1, inplace=True)\n",
    "    return df"
   ]
  },
  {
   "cell_type": "code",
   "execution_count": 367,
   "metadata": {
    "collapsed": false
   },
   "outputs": [],
   "source": [
    "def run_ttest():\n",
    "    '''First creates new data showing the decline or growth of housing prices\n",
    "    between the recession start and the recession bottom. Then runs a ttest\n",
    "    comparing the university town values to the non-university towns values, \n",
    "    return whether the alternative hypothesis (that the two groups are the same)\n",
    "    is true or not as well as the p-value of the confidence. \n",
    "    \n",
    "    Return the tuple (different, p, better) where different=True if the t-test is\n",
    "    True at a p<0.01 (we reject the null hypothesis), or different=False if \n",
    "    otherwise (we cannot reject the null hypothesis). The variable p should\n",
    "    be equal to the exact p value returned from scipy.stats.ttest_ind(). The\n",
    "    value for better should be either \"university town\" or \"non-university town\"\n",
    "    depending on which has a lower mean price ratio (which is equivilent to a\n",
    "    reduced market loss).'''\n",
    "    from scipy import stats\n",
    "    rec_start = get_recession_start()\n",
    "    rec_end = get_recession_end()\n",
    "    rec_bottom = get_recession_bottom()\n",
    "    df_housing = convert_housing_data_to_quarters()\n",
    "    df_uni_towns = get_list_of_university_towns()\n",
    "    df_uni_towns = df_uni_towns[df_uni_towns.apply(lambda x: tuple(x.values) in df_housing.index, axis=1)]        \n",
    "    df_uni_towns['Unitown'] = True\n",
    "    df_housing = df_housing.merge(df_uni_towns, how='outer', left_index=('State','RegionName'), right_on=('State','RegionName'))\n",
    "    df_housing.Unitown.fillna(value = False,inplace = True)\n",
    "    df_housing.set_index(['State','RegionName'],inplace=True)\n",
    "    t_utown_ratio = df_housing[df_housing.Unitown][rec_start].values\\\n",
    "    /df_housing[df_housing.Unitown][rec_bottom].values\n",
    "    t_no_utown_ratio = df_housing[np.logical_not(df_housing.Unitown)][rec_start].values\\\n",
    "    /df_housing[np.logical_not(df_housing.Unitown)][rec_bottom].values\n",
    "    t_utown_ratio = t_utown_ratio[np.logical_not(np.isnan(t_utown_ratio))]\n",
    "    t_no_utown_ratio = t_no_utown_ratio[np.logical_not(np.isnan(t_no_utown_ratio))]\n",
    "    pvalue = ttest_ind(t_utown_ratio,t_no_utown_ratio).pvalue \n",
    "    if ttest_ind(t_utown_ratio,t_no_utown_ratio).pvalue < 0.01:\n",
    "        return (pvalue < 0.01, pvalue, 'university town')\n",
    "    else:\n",
    "        return (pvalue < 0.01, pvalue, 'non-university town')"
   ]
  }
 ],
 "metadata": {
  "coursera": {
   "course_slug": "python-data-analysis",
   "graded_item_id": "Il9Fx",
   "launcher_item_id": "TeDW0",
   "part_id": "WGlun"
  },
  "kernelspec": {
   "display_name": "Python 3",
   "language": "python",
   "name": "python3"
  },
  "language_info": {
   "codemirror_mode": {
    "name": "ipython",
    "version": 3
   },
   "file_extension": ".py",
   "mimetype": "text/x-python",
   "name": "python",
   "nbconvert_exporter": "python",
   "pygments_lexer": "ipython3",
   "version": "3.5.2"
  }
 },
 "nbformat": 4,
 "nbformat_minor": 0
}
